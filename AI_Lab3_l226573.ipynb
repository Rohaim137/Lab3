{
  "nbformat": 4,
  "nbformat_minor": 0,
  "metadata": {
    "colab": {
      "provenance": []
    },
    "kernelspec": {
      "name": "python3",
      "display_name": "Python 3"
    },
    "language_info": {
      "name": "python"
    }
  },
  "cells": [
    {
      "cell_type": "code",
      "execution_count": null,
      "metadata": {
        "colab": {
          "base_uri": "https://localhost:8080/"
        },
        "id": "jWRxYO_Hlw1B",
        "outputId": "6533ca5d-96ec-41a6-eacd-e2f2a99d6685"
      },
      "outputs": [
        {
          "output_type": "stream",
          "name": "stdout",
          "text": [
            "[(0, 0), (1, 0), (2, 0), (3, 0), (3, 1), (3, 2), (3, 3)]\n"
          ]
        }
      ],
      "source": [
        "from collections import deque\n",
        "import numpy as np\n",
        "import time\n",
        "\n",
        "#Q1\n",
        "def find_shortest_path(matrix):\n",
        " # Directions: Left, Right, Up, Down\n",
        " directions = [(-1, 0), (1, 0), (0, -1), (0, 1)]\n",
        " start = (0, 0)\n",
        " end = (3, 3)\n",
        " queue = deque() # Use deque for BFS\n",
        " visited = {} # Track visited positions\n",
        " queue.append(start)\n",
        " visited[start] = \"End\"\n",
        " # BFS Loop\n",
        " while queue:\n",
        "  position = queue.popleft()\n",
        "  if position == end:\n",
        "    #backtrack to get path\n",
        "    positions = []\n",
        "    while position != \"End\":\n",
        "     positions.append(position)\n",
        "     position = visited[position]\n",
        "    positions.reverse()\n",
        "    return positions\n",
        "  for direction in directions:\n",
        "   next_position = (position[0] + direction[0], position[1] + direction[1])\n",
        "   if next_position[0] < 0 or next_position[0] >= len(matrix) or next_position[1] < 0 or next_position[1] >= len(matrix[0]):\n",
        "    continue\n",
        "   if next_position in visited:\n",
        "    continue\n",
        "   queue.append(next_position)\n",
        "   visited[next_position] = position\n",
        " return \"Not Found\"\n",
        "\n",
        "matrix = np.zeros((4,4))\n",
        "print(find_shortest_path(matrix))"
      ]
    },
    {
      "cell_type": "code",
      "source": [
        "#Q2\n",
        "import time\n",
        "\n",
        "def state_to_tuple(state):\n",
        "  \"\"\"Convert a string state to a tuple representation.\"\"\"\n",
        "  return ((state[0],state[1],state[2]),\n",
        "          (state[3],state[4],state[5]),\n",
        "          (state[6],state[7],state[8]))\n",
        "\n",
        "def tuple_to_state(matrix):\n",
        "  \"\"\"Convert a tuple representation back to a string state.\"\"\"\n",
        "  return ''.join(matrix[0]) + ''.join(matrix[1]) + ''.join(matrix[2])\n",
        "\n",
        "def get_moves(matrix):\n",
        "  \"\"\"Generate possible moves from the given state.\"\"\"\n",
        "  moves = []\n",
        "  for i in range(3):\n",
        "    for j in range(3):\n",
        "      if matrix[i][j] == '0':\n",
        "        empty_row, empty_col = i, j\n",
        "        break\n",
        "    else:\n",
        "      continue\n",
        "    break\n",
        "\n",
        "  directions = [(-1, 0), (1, 0), (0, -1), (0, 1)]\n",
        "\n",
        "\n",
        "  for direction in directions:\n",
        "    new_row, new_col = empty_row + direction[0], empty_col + direction[1]\n",
        "\n",
        "    if 0 <= new_row < 3 and 0 <= new_col < 3:\n",
        "      new_matrix = [list(row) for row in matrix]\n",
        "      new_matrix[empty_row][empty_col], new_matrix[new_row][new_col] = \\\n",
        "          new_matrix[new_row][new_col], new_matrix[empty_row][empty_col]\n",
        "      moves.append(tuple(tuple(row) for row in new_matrix))\n",
        "\n",
        "  return moves\n",
        "\n",
        "def dfs(start_state, goal_state):\n",
        "  \"\"\"Perform Depth-First Search (DFS) to find a solution path.\"\"\"\n",
        "  stack = [(start_state, [start_state])]\n",
        "  visited = set()\n",
        "\n",
        "  while stack:\n",
        "    current_state, path = stack.pop()\n",
        "\n",
        "    if current_state == goal_state:\n",
        "      return path\n",
        "\n",
        "    visited.add(current_state)\n",
        "\n",
        "    for next_state in get_moves(current_state):\n",
        "      if next_state not in visited:\n",
        "        stack.append((next_state, path + [next_state]))\n",
        "\n",
        "  return None\n",
        "\n",
        "def main():\n",
        " \"\"\"Main function to take input and execute the DFS algorithm.\"\"\"\n",
        " start_state = input(\"Enter start State: \")\n",
        " goal_state = input(\"Enter goal State: \")\n",
        " start_tuple = state_to_tuple(start_state)\n",
        " goal_tuple = state_to_tuple(goal_state)\n",
        " print(\"-----------------\")\n",
        " print(\"DFS Algorithm\")\n",
        " print(\"-----------------\")\n",
        " start_time = time.time()\n",
        " solution_path = dfs(start_tuple, goal_tuple)\n",
        " end_time = time.time()\n",
        " if solution_path:\n",
        "  print(\"Time taken:\", end_time - start_time, \"seconds\")\n",
        "  print(\"Path Cost:\", len(solution_path))\n",
        "  print(\"No of Nodes Visited:\", len(solution_path) + 1)\n",
        "  for state in solution_path:\n",
        "    for row in state:\n",
        "      print(' '.join(row))\n",
        "    print(\"-----\")\n",
        " else:\n",
        "  print(\"No solution found.\")\n",
        "if __name__ == \"__main__\":\n",
        " main()\n"
      ],
      "metadata": {
        "colab": {
          "base_uri": "https://localhost:8080/"
        },
        "id": "GUWT8_L4mXC0",
        "outputId": "9dea845c-edd7-4535-b4ba-65b852516105"
      },
      "execution_count": 2,
      "outputs": [
        {
          "output_type": "stream",
          "name": "stdout",
          "text": [
            "Enter start State: 120345678\n",
            "Enter goal State: 012345678\n",
            "-----------------\n",
            "DFS Algorithm\n",
            "-----------------\n",
            "Time taken: 5.793571472167969e-05 seconds\n",
            "Path Cost: 3\n",
            "No of Nodes Visited: 4\n",
            "1 2 0\n",
            "3 4 5\n",
            "6 7 8\n",
            "-----\n",
            "1 0 2\n",
            "3 4 5\n",
            "6 7 8\n",
            "-----\n",
            "0 1 2\n",
            "3 4 5\n",
            "6 7 8\n",
            "-----\n"
          ]
        }
      ]
    },
    {
      "cell_type": "code",
      "source": [
        "#Q3\n",
        "from collections import deque\n",
        "\n",
        "class Graph:\n",
        "    def __init__(self, adjacency_list):\n",
        "        self.adjacency_list = adjacency_list\n",
        "    def get_neighbors(self, v):\n",
        "        return self.adjacency_list[v]\n",
        "\n",
        "    def h(self, n):\n",
        "        H = {\n",
        "            'The': 4,\n",
        "            'cat': 3,\n",
        "            'dog': 3,\n",
        "            'runs': 2,\n",
        "            'fast': 1,\n",
        "        }\n",
        "        return H.get(n, 0)\n",
        "    def a_star_algorithm(self, start_node, stop_node):\n",
        "        \"\"\"Implements the A* search algorithm to find the optimal path.\"\"\"\n",
        "        open_list = set([start_node])\n",
        "        closed_list = set([])\n",
        "        g = {}\n",
        "        g[start_node] = 0\n",
        "\n",
        "        parents = {}\n",
        "        parents[start_node] = start_node\n",
        "\n",
        "        while len(open_list) > 0:\n",
        "            n = None\n",
        "            for v in open_list:\n",
        "                if n == None or g[v] + self.h(v) < g[n] + self.h(n):\n",
        "                    n = v\n",
        "            if n == None:\n",
        "                print(\"Path does not exist!\")\n",
        "                return None\n",
        "            if n == stop_node:\n",
        "                path = []\n",
        "                while parents[n] != n:\n",
        "                    path.append(n)\n",
        "                    n = parents[n]\n",
        "                path.append(start_node)\n",
        "                path.reverse()\n",
        "                print('Sentence:', ' '.join(path))\n",
        "                print('Total cost :', g[stop_node])\n",
        "                return path\n",
        "            open_list.remove(n)\n",
        "            closed_list.add(n)\n",
        "            for (m, weight) in self.get_neighbors(n):\n",
        "                if m not in open_list and m not in closed_list:\n",
        "                    open_list.add(m)\n",
        "                    parents[m] = n\n",
        "                    g[m] = g[n] + weight\n",
        "                else:\n",
        "                    if g[m] > g[n] + weight:\n",
        "                        g[m] = g[n] + weight\n",
        "                        parents[m] = n\n",
        "                        if m in closed_list:\n",
        "                            closed_list.remove(m)\n",
        "                            open_list.add(m)\n",
        "\n",
        "        print(\"Path does not exist!\")\n",
        "        return None\n",
        "\n",
        "adjacency_list = {\n",
        "       'The': [('cat', 1), ('dog', 2)],\n",
        "       'cat': [('runs', 2)],\n",
        "       'dog': [('runs', 3)],\n",
        "       'runs': [('fast', 1)],\n",
        "       'fast': []\n",
        "   }\n",
        "\n",
        "wordgraph = Graph(adjacency_list)\n",
        "wordgraph.a_star_algorithm('The','fast')"
      ],
      "metadata": {
        "colab": {
          "base_uri": "https://localhost:8080/"
        },
        "id": "HhvTd5iGpLak",
        "outputId": "7d2fea6e-60fc-4a9b-859a-a32b2863424f"
      },
      "execution_count": 3,
      "outputs": [
        {
          "output_type": "stream",
          "name": "stdout",
          "text": [
            "Sentence: The cat runs fast\n",
            "Total cost : 4\n"
          ]
        },
        {
          "output_type": "execute_result",
          "data": {
            "text/plain": [
              "['The', 'cat', 'runs', 'fast']"
            ]
          },
          "metadata": {},
          "execution_count": 3
        }
      ]
    }
  ]
}